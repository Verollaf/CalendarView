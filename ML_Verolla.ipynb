{
  "nbformat": 4,
  "nbformat_minor": 0,
  "metadata": {
    "colab": {
      "name": "ML-Verolla.ipynb",
      "provenance": [],
      "collapsed_sections": [],
      "toc_visible": true,
      "mount_file_id": "1DHJSWiyYn7BTLCH8R8-_jFEIp49KSMEU",
      "authorship_tag": "ABX9TyP4TiKN/W6sZQfPd+/Gsvrg",
      "include_colab_link": true
    },
    "kernelspec": {
      "name": "python3",
      "display_name": "Python 3"
    },
    "language_info": {
      "name": "python"
    }
  },
  "cells": [
    {
      "cell_type": "markdown",
      "metadata": {
        "id": "view-in-github",
        "colab_type": "text"
      },
      "source": [
        "<a href=\"https://colab.research.google.com/github/Verollaf/CalendarView/blob/master/ML_Verolla.ipynb\" target=\"_parent\"><img src=\"https://colab.research.google.com/assets/colab-badge.svg\" alt=\"Open In Colab\"/></a>"
      ]
    },
    {
      "cell_type": "markdown",
      "metadata": {
        "id": "7PZekiL0O6Oj"
      },
      "source": [
        "# Colab Esame ML Verolla\n",
        "Inizio con l'import delle librerie standard che mi serviranno in tutto il COLAB"
      ]
    },
    {
      "cell_type": "code",
      "metadata": {
        "id": "39BqTQBhPRD4"
      },
      "source": [
        "import matplotlib.pyplot as plt  # Matplotlib, per la visualizzazione dei risultati\n",
        "import matplotlib  # Import del package principale, contenente costanti utili\n",
        "import numpy as np  # Numpy"
      ],
      "execution_count": null,
      "outputs": []
    },
    {
      "cell_type": "markdown",
      "metadata": {
        "id": "OHz8DMM4e5aE"
      },
      "source": [
        "## Download del dataset\n",
        "\n",
        "\n",
        "Come prima cosa scarico il dataset Optical recognition of handwritten digits dataset\n"
      ]
    },
    {
      "cell_type": "code",
      "metadata": {
        "id": "0K_AC3A5e4zx"
      },
      "source": [
        "from sklearn.datasets import load_digits\n",
        "digits = load_digits()"
      ],
      "execution_count": null,
      "outputs": []
    },
    {
      "cell_type": "markdown",
      "metadata": {
        "id": "Y1_H7Hacg4A-"
      },
      "source": [
        "## Studio del dataset\n",
        " In questa sezione farò dei test sul dataset per capire da cosa è composto e come utilizzarlo"
      ]
    },
    {
      "cell_type": "code",
      "metadata": {
        "colab": {
          "base_uri": "https://localhost:8080/",
          "height": 202
        },
        "id": "8qrymt-jhCT6",
        "outputId": "e4c87071-61b1-4d11-b5d4-27003c2b777c"
      },
      "source": [
        "s = digits.target.size\n",
        "print('Il dataset è composto da', str(s) ,'elementi.')\n",
        "print('I target del dataset sono: ', str(digits.target_names))\n",
        "_, axes = plt.subplots(nrows=1, ncols=4, figsize=(10, 3))\n",
        "for ax, image, label in zip(axes, digits.images, digits.target):\n",
        "    ax.set_axis_off()\n",
        "    ax.imshow(image, cmap=plt.cm.gray_r, interpolation='nearest')\n",
        "    ax.set_title('Training: %i' % label)"
      ],
      "execution_count": null,
      "outputs": [
        {
          "output_type": "stream",
          "text": [
            "Il dataset è composto da 1797 elementi.\n",
            "I target del dataset sono:  [0 1 2 3 4 5 6 7 8 9]\n"
          ],
          "name": "stdout"
        },
        {
          "output_type": "display_data",
          "data": {
            "image/png": "[encoded data removed]",
            "text/plain": [
              "<Figure size 720x216 with 4 Axes>"
            ]
          },
          "metadata": {
            "tags": [],
            "needs_background": "light"
          }
        }
      ]
    },
    {
      "cell_type": "markdown",
      "metadata": {
        "id": "Bs9Gwb8L26XI"
      },
      "source": [
        "## Preparazione dei dati\n",
        "In questa sezione preparo i dati per effettuare le classificazioni che vedremo dopo. Inizio con l'importare le librerie che sevono per lo ***split*** del dataset in test set e training tet e le librerie per il calcolo delle ***metriche***."
      ]
    },
    {
      "cell_type": "code",
      "metadata": {
        "id": "JLvSQTVT3-Pi"
      },
      "source": [
        "from sklearn import metrics\n",
        "from sklearn.metrics import accuracy_score\n",
        "from sklearn.metrics import log_loss\n",
        "from sklearn.model_selection import train_test_split"
      ],
      "execution_count": null,
      "outputs": []
    },
    {
      "cell_type": "markdown",
      "metadata": {
        "id": "4ME3rjB88e3B"
      },
      "source": [
        "Successivamente, preparo i dati per l'addestramento dichiarando un array di dati NumPy e facendone un reshape in modo che abbia la prima dimensione uguale alla lunghezza delle immagini, che è il numero di campioni, n_samples, ma con dimensionalità ridotta. Quindi la dimensione dei dati sarà 1797 x 64.\n",
        "\n",
        "La fase di reshape è stata fatta studiando la documentazione del dataset al seguente [link](https://scikit-learn.org/stable/auto_examples/classification/plot_digits_classification.html#sphx-glr-auto-examples-classification-plot-digits-classification-py)\n",
        "\n"
      ]
    },
    {
      "cell_type": "code",
      "metadata": {
        "colab": {
          "base_uri": "https://localhost:8080/"
        },
        "id": "oBAgdwD489WY",
        "outputId": "ec148db6-b776-406c-ef65-f7e6096098c4"
      },
      "source": [
        "n_samples = len(digits.images)\n",
        "print(digits.images.shape)\n",
        "data = digits.images.reshape((n_samples, -1))\n",
        "print(data.shape)"
      ],
      "execution_count": null,
      "outputs": [
        {
          "output_type": "stream",
          "text": [
            "(1797, 8, 8)\n",
            "(1797, 64)\n"
          ],
          "name": "stdout"
        }
      ]
    },
    {
      "cell_type": "markdown",
      "metadata": {
        "id": "Tr3STuyP9G44"
      },
      "source": [
        "##Split dei dati\n",
        "A questo punto splitto i dati.\n",
        "\n",
        "\n"
      ]
    },
    {
      "cell_type": "code",
      "metadata": {
        "id": "PkLpTwNo-IIi"
      },
      "source": [
        "X_train, X_test, y_train, y_test = train_test_split(data, digits.target, test_size=0.3, shuffle=True)"
      ],
      "execution_count": null,
      "outputs": []
    },
    {
      "cell_type": "markdown",
      "metadata": {
        "id": "NxnY3IbJk3Aj"
      },
      "source": [
        "# Classificazione tramite Bayes (NAIVE)\n",
        "\n",
        "Di seguito sara riportato la classificazione tramite l'utilizzo del classificatore bayesiano.\n",
        "Verranno utilizzati vari modelli basati du differenti distribuzioni di probabilità\n",
        "\n",
        "Importo dalla libreria sklearn i metodi che mi servono per la classificazione"
      ]
    },
    {
      "cell_type": "code",
      "metadata": {
        "id": "T6t89uAHAUGI"
      },
      "source": [
        "from sklearn.naive_bayes import GaussianNB\n",
        "from sklearn.naive_bayes import MultinomialNB\n",
        "from sklearn.naive_bayes import BernoulliNB\n",
        "from sklearn.naive_bayes import ComplementNB"
      ],
      "execution_count": null,
      "outputs": []
    },
    {
      "cell_type": "markdown",
      "metadata": {
        "id": "7_HrbeG9U-jf"
      },
      "source": [
        "## Classificatore Bayesiano Gaussiano\n",
        "Per la classificazione bayesiana, verrà utilizzata la classificazione tramite la Gaussiana quindi supponendo che i valori di ciascuna caratteristica siano normalmente distribuiti (ossia ricadono da qualche parte su una curva a campana)"
      ]
    },
    {
      "cell_type": "code",
      "metadata": {
        "colab": {
          "base_uri": "https://localhost:8080/",
          "height": 1000
        },
        "id": "1wAdUqcsAy9E",
        "outputId": "02dd365c-9439-49f0-a0b1-65fa332809d2"
      },
      "source": [
        "gaussian_clf = GaussianNB()\n",
        "gaussian_clf.fit(X_train, y_train)\n",
        "\n",
        "gaussian_predicted = gaussian_clf.predict(X_test)\n",
        "gaussian_predict_proba = gaussian_clf.predict_proba(X_test)\n",
        "_, axes = plt.subplots(2, 4)\n",
        "\n",
        "images_and_labels = list(zip(digits.images, digits.target))\n",
        "for ax, (image, label) in zip(axes[0, :], images_and_labels[:4]):\n",
        "    ax.set_axis_off()\n",
        "    ax.imshow(image, cmap=plt.cm.gray_r, interpolation='nearest')\n",
        "    ax.set_title('Training: %i' % label)\n",
        "    \n",
        "images_and_predictions = list(zip(digits.images[n_samples // 2:], gaussian_predicted))\n",
        "\n",
        "for ax, (image, prediction) in zip(axes[1, :], images_and_predictions[:4]):\n",
        "    ax.set_axis_off()\n",
        "    ax.imshow(image, cmap=plt.cm.gray_r, interpolation='nearest')\n",
        "    ax.set_title('Prediction: %i' % prediction)\n",
        "\n",
        "print(\"\\nClassification report for classifier %s:\\n%s\\n\" % (gaussian_clf, metrics.classification_report(y_test, gaussian_predicted)))\n",
        "print(\"\\nLoss %s:\\n%s\\n\" % (gaussian_clf, metrics.log_loss(y_test, gaussian_predict_proba)))\n",
        "disp = metrics.plot_confusion_matrix(gaussian_clf, X_test, y_test)\n",
        "disp.figure_.suptitle(\"Confusion Matrix\")\n",
        "print(\"\\nConfusion matrix:\\n%s\" % disp.confusion_matrix)\n",
        "print(\"\\nAccuracy of the Algorithm: \", gaussian_clf.score(X_test, y_test))\n",
        "plt.show()"
      ],
      "execution_count": null,
      "outputs": [
        {
          "output_type": "stream",
          "text": [
            "\n",
            "Classification report for classifier GaussianNB(priors=None, var_smoothing=1e-09):\n",
            "              precision    recall  f1-score   support\n",
            "\n",
            "           0       0.98      1.00      0.99        57\n",
            "           1       0.80      0.78      0.79        51\n",
            "           2       1.00      0.49      0.66        59\n",
            "           3       0.93      0.79      0.85        63\n",
            "           4       0.98      0.80      0.88        56\n",
            "           5       0.92      0.87      0.89        52\n",
            "           6       0.81      0.96      0.88        48\n",
            "           7       0.73      0.98      0.84        52\n",
            "           8       0.53      0.91      0.67        58\n",
            "           9       0.93      0.57      0.70        44\n",
            "\n",
            "    accuracy                           0.82       540\n",
            "   macro avg       0.86      0.82      0.82       540\n",
            "weighted avg       0.86      0.82      0.82       540\n",
            "\n",
            "\n",
            "\n",
            "Loss GaussianNB(priors=None, var_smoothing=1e-09):\n",
            "3.789688199955022\n",
            "\n",
            "\n",
            "Confusion matrix:\n",
            "[[57  0  0  0  0  0  0  0  0  0]\n",
            " [ 0 40  0  0  0  0  2  2  5  2]\n",
            " [ 0  4 29  0  0  0  1  0 25  0]\n",
            " [ 0  0  0 50  0  1  1  2  9  0]\n",
            " [ 0  0  0  0 45  0  5  4  2  0]\n",
            " [ 0  0  0  2  0 45  2  3  0  0]\n",
            " [ 0  1  0  0  0  1 46  0  0  0]\n",
            " [ 0  0  0  0  0  1  0 51  0  0]\n",
            " [ 0  1  0  0  0  0  0  4 53  0]\n",
            " [ 1  4  0  2  1  1  0  4  6 25]]\n",
            "\n",
            "Accuracy of the Algorithm:  0.8166666666666667\n"
          ],
          "name": "stdout"
        },
        {
          "output_type": "display_data",
          "data": {
            "image/png": "[encoded data removed]",
            "text/plain": [
              "<Figure size 432x288 with 8 Axes>"
            ]
          },
          "metadata": {
            "tags": [],
            "needs_background": "light"
          }
        },
        {
          "output_type": "display_data",
          "data": {
            "image/png": "[encoded data removed]",
            "text/plain": [
              "<Figure size 432x288 with 2 Axes>"
            ]
          },
          "metadata": {
            "tags": [],
            "needs_background": "light"
          }
        }
      ]
    },
    {
      "cell_type": "markdown",
      "metadata": {
        "id": "xRLEXs0mGVGz"
      },
      "source": [
        "## Classificatore Bayesiano Multinomiale\n",
        "I vettori caratteristica rappresentano le frequenze con cui determinati eventi sono stati generati da una distribuzione multinomiale. Questo è il modello di evento utilizzato in genere per la classificazione dei documenti."
      ]
    },
    {
      "cell_type": "code",
      "metadata": {
        "colab": {
          "base_uri": "https://localhost:8080/",
          "height": 954
        },
        "id": "gUeJHW6IL-PV",
        "outputId": "75d19364-4b72-49d3-b178-d3ed7c39d027"
      },
      "source": [
        "multinomial_clf = MultinomialNB()\n",
        "multinomial_clf.fit(X_train, y_train)\n",
        "\n",
        "multinomial_predicted = multinomial_clf.predict(X_test)\n",
        "multinomial_predict_proba = multinomial_clf.predict_proba(X_test)\n",
        "\n",
        "print(\"\\nClassification report for classifier %s:\\n%s\\n\" % (multinomial_clf, metrics.classification_report(y_test, multinomial_predicted)))\n",
        "print(\"\\nLoss %s:\\n%s\\n\" % (multinomial_clf, metrics.log_loss(y_test, multinomial_predict_proba)))\n",
        "disp = metrics.plot_confusion_matrix(multinomial_clf, X_test, y_test)\n",
        "disp.figure_.suptitle(\"Confusion Matrix\")\n",
        "print(\"\\nConfusion matrix:\\n%s\" % disp.confusion_matrix)\n",
        "print(\"\\nAccuracy of the Algorithm: \", multinomial_clf.score(X_test, y_test))\n",
        "plt.show()"
      ],
      "execution_count": null,
      "outputs": [
        {
          "output_type": "stream",
          "text": [
            "\n",
            "Classification report for classifier MultinomialNB(alpha=1.0, class_prior=None, fit_prior=True):\n",
            "              precision    recall  f1-score   support\n",
            "\n",
            "           0       0.98      1.00      0.99        57\n",
            "           1       0.83      0.76      0.80        51\n",
            "           2       0.94      0.86      0.90        59\n",
            "           3       1.00      0.86      0.92        63\n",
            "           4       0.96      0.93      0.95        56\n",
            "           5       0.96      0.83      0.89        52\n",
            "           6       0.96      0.96      0.96        48\n",
            "           7       0.84      1.00      0.91        52\n",
            "           8       0.78      0.91      0.84        58\n",
            "           9       0.74      0.84      0.79        44\n",
            "\n",
            "    accuracy                           0.90       540\n",
            "   macro avg       0.90      0.90      0.89       540\n",
            "weighted avg       0.90      0.90      0.90       540\n",
            "\n",
            "\n",
            "\n",
            "Loss MultinomialNB(alpha=1.0, class_prior=None, fit_prior=True):\n",
            "2.096324407946659\n",
            "\n",
            "\n",
            "Confusion matrix:\n",
            "[[57  0  0  0  0  0  0  0  0  0]\n",
            " [ 0 39  3  0  0  0  1  0  4  4]\n",
            " [ 1  3 51  0  0  0  0  0  3  1]\n",
            " [ 0  0  0 54  0  1  0  2  3  3]\n",
            " [ 0  0  0  0 52  0  0  3  1  0]\n",
            " [ 0  0  0  0  1 43  1  1  1  5]\n",
            " [ 0  1  0  0  0  1 46  0  0  0]\n",
            " [ 0  0  0  0  0  0  0 52  0  0]\n",
            " [ 0  3  0  0  1  0  0  1 53  0]\n",
            " [ 0  1  0  0  0  0  0  3  3 37]]\n",
            "\n",
            "Accuracy of the Algorithm:  0.8962962962962963\n"
          ],
          "name": "stdout"
        },
        {
          "output_type": "display_data",
          "data": {
            "image/png": "[encoded data removed]",
            "text/plain": [
              "<Figure size 432x288 with 2 Axes>"
            ]
          },
          "metadata": {
            "tags": [],
            "needs_background": "light"
          }
        }
      ]
    },
    {
      "cell_type": "markdown",
      "metadata": {
        "id": "9QTkiRccPhHc"
      },
      "source": [
        "## Classificatore Bayesiano di *Bernoulli*\n",
        "Nel modello di eventi multivariato di Bernoulli, le caratteristiche indipendenti che descrivono gli input sono variabili booleane (variabili binarie del tipo Vero o Falso)."
      ]
    },
    {
      "cell_type": "code",
      "metadata": {
        "colab": {
          "base_uri": "https://localhost:8080/",
          "height": 954
        },
        "id": "aHlozYHVTNBG",
        "outputId": "04309559-e33d-4976-dca0-1ca36e964dfb"
      },
      "source": [
        "bernoulli_clf = BernoulliNB()\n",
        "bernoulli_clf.fit(X_train, y_train)\n",
        "\n",
        "bernoulli_predicted = bernoulli_clf.predict(X_test)\n",
        "bernoulli_predict_proba = bernoulli_clf.predict_proba(X_test)\n",
        "\n",
        "print(\"\\nClassification report for classifier %s:\\n%s\\n\" % (bernoulli_clf, metrics.classification_report(y_test, bernoulli_predicted)))\n",
        "print(\"\\nLoss %s:\\n%s\\n\" % (bernoulli_clf, metrics.log_loss(y_test, bernoulli_predict_proba)))\n",
        "disp = metrics.plot_confusion_matrix(bernoulli_clf, X_test, y_test)\n",
        "disp.figure_.suptitle(\"Confusion Matrix\")\n",
        "print(\"\\nConfusion matrix:\\n%s\" % disp.confusion_matrix)\n",
        "print(\"\\nAccuracy of the Algorithm: \", bernoulli_clf.score(X_test, y_test))\n",
        "plt.show()"
      ],
      "execution_count": null,
      "outputs": [
        {
          "output_type": "stream",
          "text": [
            "\n",
            "Classification report for classifier BernoulliNB(alpha=1.0, binarize=0.0, class_prior=None, fit_prior=True):\n",
            "              precision    recall  f1-score   support\n",
            "\n",
            "           0       1.00      1.00      1.00        57\n",
            "           1       0.71      0.59      0.65        51\n",
            "           2       0.89      0.83      0.86        59\n",
            "           3       0.91      0.84      0.88        63\n",
            "           4       0.91      0.93      0.92        56\n",
            "           5       0.93      0.81      0.87        52\n",
            "           6       0.96      0.96      0.96        48\n",
            "           7       0.84      0.98      0.90        52\n",
            "           8       0.69      0.79      0.74        58\n",
            "           9       0.66      0.75      0.70        44\n",
            "\n",
            "    accuracy                           0.85       540\n",
            "   macro avg       0.85      0.85      0.85       540\n",
            "weighted avg       0.85      0.85      0.85       540\n",
            "\n",
            "\n",
            "\n",
            "Loss BernoulliNB(alpha=1.0, binarize=0.0, class_prior=None, fit_prior=True):\n",
            "0.7287436225253892\n",
            "\n",
            "\n",
            "Confusion matrix:\n",
            "[[57  0  0  0  0  0  0  0  0  0]\n",
            " [ 0 30  6  0  2  1  0  0  9  3]\n",
            " [ 0  2 49  3  0  0  0  0  5  0]\n",
            " [ 0  1  0 53  0  2  0  1  2  4]\n",
            " [ 0  0  0  0 52  0  0  4  0  0]\n",
            " [ 0  0  0  1  0 42  2  0  1  6]\n",
            " [ 0  1  0  0  0  0 46  0  1  0]\n",
            " [ 0  0  0  0  1  0  0 51  0  0]\n",
            " [ 0  5  0  1  0  0  0  2 46  4]\n",
            " [ 0  3  0  0  2  0  0  3  3 33]]\n",
            "\n",
            "Accuracy of the Algorithm:  0.85\n"
          ],
          "name": "stdout"
        },
        {
          "output_type": "display_data",
          "data": {
            "image/png": "[encoded data removed]",
            "text/plain": [
              "<Figure size 432x288 with 2 Axes>"
            ]
          },
          "metadata": {
            "tags": [],
            "needs_background": "light"
          }
        }
      ]
    },
    {
      "cell_type": "code",
      "metadata": {
        "colab": {
          "base_uri": "https://localhost:8080/",
          "height": 954
        },
        "id": "xpS2hMKwUH5T",
        "outputId": "142b5b4a-e124-4369-ce0c-510b1fdc10fd"
      },
      "source": [
        "complement_clf = ComplementNB()\n",
        "complement_clf.fit(X_train, y_train)\n",
        "\n",
        "complement_predicted = complement_clf.predict(X_test)\n",
        "complement_predict_proba = complement_clf.predict_proba(X_test)\n",
        "\n",
        "print(\"\\nClassification report for classifier %s:\\n%s\\n\" % (complement_clf, metrics.classification_report(y_test, complement_predicted)))\n",
        "print(\"\\nLoss %s:\\n%s\\n\" % (complement_clf, metrics.log_loss(y_test, complement_predict_proba)))\n",
        "disp = metrics.plot_confusion_matrix(complement_clf, X_test, y_test)\n",
        "disp.figure_.suptitle(\"Confusion Matrix\")\n",
        "print(\"\\nConfusion matrix:\\n%s\" % disp.confusion_matrix)\n",
        "print(\"\\nAccuracy of the Algorithm: \", complement_clf.score(X_test, y_test))\n",
        "plt.show()"
      ],
      "execution_count": null,
      "outputs": [
        {
          "output_type": "stream",
          "text": [
            "\n",
            "Classification report for classifier ComplementNB(alpha=1.0, class_prior=None, fit_prior=True, norm=False):\n",
            "              precision    recall  f1-score   support\n",
            "\n",
            "           0       1.00      1.00      1.00        57\n",
            "           1       0.76      0.69      0.72        51\n",
            "           2       0.77      0.93      0.85        59\n",
            "           3       0.94      0.81      0.87        63\n",
            "           4       0.85      0.93      0.89        56\n",
            "           5       0.89      0.81      0.85        52\n",
            "           6       0.77      0.98      0.86        48\n",
            "           7       0.60      0.98      0.74        52\n",
            "           8       1.00      0.22      0.37        58\n",
            "           9       0.73      0.75      0.74        44\n",
            "\n",
            "    accuracy                           0.81       540\n",
            "   macro avg       0.83      0.81      0.79       540\n",
            "weighted avg       0.84      0.81      0.79       540\n",
            "\n",
            "\n",
            "\n",
            "Loss ComplementNB(alpha=1.0, class_prior=None, fit_prior=True, norm=False):\n",
            "0.7106886200310506\n",
            "\n",
            "\n",
            "Confusion matrix:\n",
            "[[57  0  0  0  0  0  0  0  0  0]\n",
            " [ 0 35  6  0  2  0  1  3  0  4]\n",
            " [ 0  1 55  1  0  0  1  1  0  0]\n",
            " [ 0  0  3 51  0  1  1  5  0  2]\n",
            " [ 0  0  0  0 52  1  0  3  0  0]\n",
            " [ 0  0  1  0  2 42  1  3  0  3]\n",
            " [ 0  0  0  0  1  0 47  0  0  0]\n",
            " [ 0  0  1  0  0  0  0 51  0  0]\n",
            " [ 0  9  4  2  4  1 10 12 13  3]\n",
            " [ 0  1  1  0  0  2  0  7  0 33]]\n",
            "\n",
            "Accuracy of the Algorithm:  0.8074074074074075\n"
          ],
          "name": "stdout"
        },
        {
          "output_type": "display_data",
          "data": {
            "image/png": "[encoded data removed]",
            "text/plain": [
              "<Figure size 432x288 with 2 Axes>"
            ]
          },
          "metadata": {
            "tags": [],
            "needs_background": "light"
          }
        }
      ]
    },
    {
      "cell_type": "markdown",
      "metadata": {
        "id": "c1AGAwqrGI1a"
      },
      "source": [
        "#Random Forest\n",
        "Di seguito saranno riportate le classificazioni ottenute sullo stesso dataset visto in precedenza utilizzando stavolta un algoritmo di tipo Random-Forest utilizzando dapprima la metrica *Gini* poi utilizzando la metrica *Entropy*"
      ]
    },
    {
      "cell_type": "markdown",
      "metadata": {
        "id": "dtCp_Pi1Sy9F"
      },
      "source": [
        ""
      ]
    },
    {
      "cell_type": "code",
      "metadata": {
        "id": "EHk68_DuSxiP"
      },
      "source": [
        "from sklearn.ensemble import RandomForestClassifier"
      ],
      "execution_count": null,
      "outputs": []
    },
    {
      "cell_type": "markdown",
      "metadata": {
        "id": "ncIOqqVlXvvh"
      },
      "source": [
        "##Metodi di supporto"
      ]
    },
    {
      "cell_type": "code",
      "metadata": {
        "id": "Tw8hc1W1XubX"
      },
      "source": [
        "def visualize_classifier(model, X, y, ax=None, cmap='rainbow'):\n",
        "    ax = ax or plt.gca()\n",
        "    \n",
        "    # Plot the training points\n",
        "    ax.scatter(X[:, 0], X[:, 1], c=y, s=30, cmap=cmap,\n",
        "               clim=(y.min(), y.max()), zorder=3)\n",
        "    ax.axis('tight')\n",
        "    ax.axis('off')\n",
        "    xlim = ax.get_xlim()\n",
        "    ylim = ax.get_ylim()\n",
        "    \n",
        "    # fit the estimator\n",
        "    model.fit(X, y)\n",
        "    xx, yy = np.meshgrid(np.linspace(*xlim, num=200),\n",
        "                         np.linspace(*ylim, num=200))\n",
        "    Z = model.predict(np.c_[xx.ravel(), yy.ravel()]).reshape(xx.shape)\n",
        "\n",
        "    # Create a color plot with the results\n",
        "    n_classes = len(np.unique(y))\n",
        "    contours = ax.contourf(xx, yy, Z, alpha=0.3,\n",
        "                           levels=np.arange(n_classes + 1) - 0.5,\n",
        "                           cmap=cmap, clim=(y.min(), y.max()),\n",
        "                           zorder=1)\n",
        "\n",
        "    ax.set(xlim=xlim, ylim=ylim)"
      ],
      "execution_count": null,
      "outputs": []
    },
    {
      "cell_type": "markdown",
      "metadata": {
        "id": "YSYLkKSsS3OU"
      },
      "source": [
        "## Metrica Gini"
      ]
    },
    {
      "cell_type": "code",
      "metadata": {
        "colab": {
          "base_uri": "https://localhost:8080/",
          "height": 1000
        },
        "id": "K95nL6x8Spd1",
        "outputId": "4734cc4f-7b0b-4dcb-ea96-1f1ceea9d082"
      },
      "source": [
        "gini_rf_clf = RandomForestClassifier(max_depth=10, random_state=0)\n",
        "gini_rf_clf.fit(X_train, y_train)\n",
        "\n",
        "predicted_rf_clf = gini_rf_clf.predict(X_test)\n",
        "\n",
        "_, axes = plt.subplots(2, 4)\n",
        "images_and_labels_rf = list(zip(digits.images, digits.target))\n",
        "for ax, (image, label) in zip(axes[0, :], images_and_labels_rf[:4]):\n",
        "    ax.set_axis_off()\n",
        "    ax.imshow(image, cmap=plt.cm.gray_r, interpolation='nearest')\n",
        "    ax.set_title('Training: %i' % label)\n",
        "    \n",
        "images_and_predictions_rf = list(zip(digits.images[n_samples // 2:], predicted_rf_clf))\n",
        "for ax, (image, prediction) in zip(axes[1, :], images_and_predictions_rf[:4]):\n",
        "    ax.set_axis_off()\n",
        "    ax.imshow(image, cmap=plt.cm.gray_r, interpolation='nearest')\n",
        "    ax.set_title('Prediction: %i' % prediction)\n",
        "print(\"\\nClassification report for classifier %s:\\n%s\\n\" % (gini_rf_clf, metrics.classification_report(y_test, predicted_rf_clf)))\n",
        "disp = metrics.plot_confusion_matrix(gini_rf_clf, X_test, y_test)\n",
        "disp.figure_.suptitle(\"Confusion Matrix\")\n",
        "print(\"\\nConfusion matrix:\\n%s\" % disp.confusion_matrix)\n",
        "print(\"\\nAccuracy of the Algorithm: \", gini_rf_clf.score(X_test, y_test))\n",
        "plt.show()\n"
      ],
      "execution_count": null,
      "outputs": [
        {
          "output_type": "stream",
          "text": [
            "\n",
            "Classification report for classifier RandomForestClassifier(bootstrap=True, ccp_alpha=0.0, class_weight=None,\n",
            "                       criterion='gini', max_depth=10, max_features='auto',\n",
            "                       max_leaf_nodes=None, max_samples=None,\n",
            "                       min_impurity_decrease=0.0, min_impurity_split=None,\n",
            "                       min_samples_leaf=1, min_samples_split=2,\n",
            "                       min_weight_fraction_leaf=0.0, n_estimators=100,\n",
            "                       n_jobs=None, oob_score=False, random_state=0, verbose=0,\n",
            "                       warm_start=False):\n",
            "              precision    recall  f1-score   support\n",
            "\n",
            "           0       1.00      1.00      1.00        57\n",
            "           1       0.96      1.00      0.98        51\n",
            "           2       1.00      1.00      1.00        59\n",
            "           3       0.98      0.95      0.97        63\n",
            "           4       0.98      0.96      0.97        56\n",
            "           5       0.96      0.92      0.94        52\n",
            "           6       0.98      0.98      0.98        48\n",
            "           7       0.93      1.00      0.96        52\n",
            "           8       0.95      0.93      0.94        58\n",
            "           9       0.95      0.95      0.95        44\n",
            "\n",
            "    accuracy                           0.97       540\n",
            "   macro avg       0.97      0.97      0.97       540\n",
            "weighted avg       0.97      0.97      0.97       540\n",
            "\n",
            "\n",
            "\n",
            "Confusion matrix:\n",
            "[[57  0  0  0  0  0  0  0  0  0]\n",
            " [ 0 51  0  0  0  0  0  0  0  0]\n",
            " [ 0  0 59  0  0  0  0  0  0  0]\n",
            " [ 0  0  0 60  0  2  0  1  0  0]\n",
            " [ 0  0  0  0 54  0  0  2  0  0]\n",
            " [ 0  0  0  0  0 48  1  0  1  2]\n",
            " [ 0  0  0  0  1  0 47  0  0  0]\n",
            " [ 0  0  0  0  0  0  0 52  0  0]\n",
            " [ 0  2  0  1  0  0  0  1 54  0]\n",
            " [ 0  0  0  0  0  0  0  0  2 42]]\n",
            "\n",
            "Accuracy of the Algorithm:  0.9703703703703703\n"
          ],
          "name": "stdout"
        },
        {
          "output_type": "display_data",
          "data": {
            "image/png": "[encoded data removed]",
            "text/plain": [
              "<Figure size 432x288 with 8 Axes>"
            ]
          },
          "metadata": {
            "tags": [],
            "needs_background": "light"
          }
        },
        {
          "output_type": "display_data",
          "data": {
            "image/png": "[encoded data removed]",
            "text/plain": [
              "<Figure size 432x288 with 2 Axes>"
            ]
          },
          "metadata": {
            "tags": [],
            "needs_background": "light"
          }
        }
      ]
    },
    {
      "cell_type": "markdown",
      "metadata": {
        "id": "kOnY0oXKTvS_"
      },
      "source": [
        "##Metrica Entropia"
      ]
    },
    {
      "cell_type": "code",
      "metadata": {
        "id": "-J5BevYITu9L"
      },
      "source": [
        "entropy_rf_clf = RandomForestClassifier(max_depth=2, random_state=0, criterion= 'entropy',n_estimators= 150)\n",
        "entropy_rf_clf.fit(X_train, y_train)\n",
        "\n",
        "predicted_rf_entropy_clf = entropy_rf_clf.predict(X_test)\n",
        "\n",
        "print(\"\\nClassification report for classifier %s:\\n%s\\n\" % (entropy_rf_clf, metrics.classification_report(y_test, predicted_rf_entropy_clf)))\n",
        "disp = metrics.plot_confusion_matrix(entropy_rf_clf, X_test, y_test)\n",
        "disp.figure_.suptitle(\"Confusion Matrix\")\n",
        "print(\"\\nConfusion matrix:\\n%s\" % disp.confusion_matrix)\n",
        "print(\"\\nAccuracy of the Algorithm: \", entropy_rf_clf.score(X_test, y_test))\n",
        "plt.show()"
      ],
      "execution_count": null,
      "outputs": []
    }
  ]
}